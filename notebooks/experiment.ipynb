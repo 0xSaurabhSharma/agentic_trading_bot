{
 "cells": [
  {
   "cell_type": "code",
   "execution_count": 1,
   "id": "a50ab7e1",
   "metadata": {},
   "outputs": [],
   "source": [
    "# exception.py\n",
    "\n",
    "import sys\n",
    "\n",
    "class TradingAgentException(Exception):\n",
    "    \n",
    "    def __init__(self, error_message, error_details: sys):\n",
    "        self.error_message = error_message\n",
    "        _,_,exc_tb = error_details.exc_info()\n",
    "        \n",
    "        self.lineon = exc_tb.tb_lineno\n",
    "        self.file_name = exc_tb.tb_frame.f_code.co_filename\n",
    "    \n",
    "    def __str__(self):\n",
    "        return f\"Error occured in file_name: {self.file_name}, on line: {self.lineon}\\nError Message: {self.error_message}\""
   ]
  },
  {
   "cell_type": "code",
   "execution_count": 2,
   "id": "94aff99d",
   "metadata": {},
   "outputs": [],
   "source": [
    "# logger.py\n",
    "\n",
    "import logging\n",
    "import os \n",
    "from datetime import datetime \n",
    "\n",
    "LOG_FILE = f\"{datetime.now().strftime('%m_%d_%Y_%H_%M_%S')}.log\"\n",
    "\n",
    "logs_path = os.path.join(os.getcwd(), \"logs\", LOG_FILE)\n",
    "\n",
    "os.makedirs(logs_path, exist_ok=True)\n",
    "\n",
    "LOG_FILE_PATH = os.path.join(logs_path, LOG_FILE)\n",
    "\n",
    "logging.basicConfig(\n",
    "    filename=LOG_FILE_PATH,\n",
    "    format=\"[ %(asctime)s] %(lineno)d %(name)s - %(levelname)s - %(message)s\",\n",
    "    level=logging.INFO\n",
    ")\n",
    "logger = logging.getLogger(\"Agentic_Trading_Bot\")"
   ]
  },
  {
   "cell_type": "code",
   "execution_count": 7,
   "id": "7dfb2351",
   "metadata": {},
   "outputs": [],
   "source": [
    "logging.info(\"Testing logger in thanuh\")"
   ]
  },
  {
   "cell_type": "code",
   "execution_count": 8,
   "id": "929ae458",
   "metadata": {},
   "outputs": [],
   "source": [
    "logger.info(\"test\")"
   ]
  },
  {
   "cell_type": "code",
   "execution_count": null,
   "id": "66b89dbf",
   "metadata": {},
   "outputs": [],
   "source": []
  }
 ],
 "metadata": {
  "kernelspec": {
   "display_name": "re_fast",
   "language": "python",
   "name": "python3"
  },
  "language_info": {
   "codemirror_mode": {
    "name": "ipython",
    "version": 3
   },
   "file_extension": ".py",
   "mimetype": "text/x-python",
   "name": "python",
   "nbconvert_exporter": "python",
   "pygments_lexer": "ipython3",
   "version": "3.11.13"
  }
 },
 "nbformat": 4,
 "nbformat_minor": 5
}
